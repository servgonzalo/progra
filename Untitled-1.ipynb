{
 "cells": [
  {
   "cell_type": "code",
   "execution_count": null,
   "id": "f8496df4",
   "metadata": {},
   "outputs": [],
   "source": [
    "# Ejercicio 1: Función para procesar texto (versión corregida)\n",
    "\n",
    "def process_text(text=\"this is a default text with Python and amazing words.\", words_to_replace=[\"Python\", \"amazing\"]):\n",
    "    \"\"\"\n",
    "    Recibimos una cadena de caracteres y una lista de palabras a cambiar y devolvemos el texto ya procesado y la cantidad de palabras cambiadas\n",
    "    \"\"\"\n",
    "    processed = text.lower().strip()\n",
    "    \n",
    "    words = processed.split()\n",
    "    \n",
    "    count = 0\n",
    "    words_to_replace_lower = [w.lower() for w in words_to_replace]\n",
    "    for i, word in enumerate(words):\n",
    "        if word in words_to_replace_lower:\n",
    "            original_word = words_to_replace[words_to_replace_lower.index(word)]\n",
    "            words[i] = '*' * len(original_word)\n",
    "            count += 1\n",
    "    \n",
    "    processed = ' '.join(words)\n",
    "    \n",
    "    return processed, count\n",
    "\n",
    "def main():\n",
    "    \"\"\"Funcion principal donde llamamos a la otra\"\"\"\n",
    "    result_text, count = process_text()\n",
    "    print(f\"Texto con cambios: \\\"{result_text}\\\"\")\n",
    "    print(f\"Palabras remplazadas: {count}\")\n",
    "\n",
    "# Llamar a main para ejecutar\n",
    "if __name__ == \"__main__\":\n",
    "    main()"
   ]
  }
 ],
 "metadata": {
  "language_info": {
   "name": "python"
  }
 },
 "nbformat": 4,
 "nbformat_minor": 5
}
